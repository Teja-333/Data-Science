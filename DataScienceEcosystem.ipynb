{
 "cells": [
  {
   "cell_type": "markdown",
   "id": "4733ebe0-37ab-40ea-b29b-6ffb02e9fb66",
   "metadata": {},
   "source": [
    "# Data Science Tools and Ecosystem"
   ]
  },
  {
   "cell_type": "markdown",
   "id": "5aabb950-710b-404b-98d3-94445bcea9e1",
   "metadata": {},
   "source": [
    "### introduction\n",
    "\n",
    "#### In this notebook, Data Science Tools and Ecosystem are summarized."
   ]
  },
  {
   "cell_type": "markdown",
   "id": "ca3bf71a-38e5-49c9-8d91-2fffbb888e3c",
   "metadata": {},
   "source": [
    "### Data Science Languages\n",
    "\n",
    "#### Some of the popular languages that Data Scientists use are : \n",
    "     1. python\n",
    "     2. r\n",
    "     3. SQL\n",
    "     4. Matlab\n",
    "     5. java\n",
    "     "
   ]
  },
  {
   "cell_type": "markdown",
   "id": "4a29df5b-1bba-4541-8772-36d8b4c68210",
   "metadata": {},
   "source": [
    "### Data Science Libraries\n",
    "\n",
    "#### Some of the commonly used libraries used by Data Scientists include:\n",
    "     1. Numpy\n",
    "     2. Pandas\n",
    "     3. Matplotlib\n",
    "     4. Seaborn\n",
    "     5. Scikit learn"
   ]
  },
  {
   "cell_type": "markdown",
   "id": "2d7e818c-01dc-4539-be9a-5b298bef0bbe",
   "metadata": {},
   "source": [
    "### Data Science Tools\n",
    "     ___________________\n",
    "    | Data Science Tools|\n",
    "     ___________________\n",
    "    | Hadoop            |\n",
    "     ___________________\n",
    "    | Jupyter notebook  |\n",
    "     ___________________\n",
    "    | My Sql            |\n",
    "     ___________________\n",
    "\n",
    "     "
   ]
  },
  {
   "cell_type": "markdown",
   "id": "eb03aa8b-9db1-4d74-b712-60230c95963e",
   "metadata": {},
   "source": [
    "### Introducing arithmetic expression examples \n",
    "\n",
    "### Below are a few examples of evaluating arithmetic expressions in Python\n",
    "\n"
   ]
  },
  {
   "cell_type": "code",
   "execution_count": 12,
   "id": "cbcfe1d5-61d8-4437-bebe-a7c6b8494701",
   "metadata": {},
   "outputs": [
    {
     "data": {
      "text/plain": [
       "17"
      ]
     },
     "execution_count": 12,
     "metadata": {},
     "output_type": "execute_result"
    }
   ],
   "source": [
    "# This is a simple arithmetic expression to multiply then add integers.\n",
    "(3*4)+5"
   ]
  },
  {
   "cell_type": "code",
   "execution_count": 14,
   "id": "b53af7c1-ad9d-4ec6-b60b-27c8039d0dce",
   "metadata": {},
   "outputs": [
    {
     "data": {
      "text/plain": [
       "3.3333333333333335"
      ]
     },
     "execution_count": 14,
     "metadata": {},
     "output_type": "execute_result"
    }
   ],
   "source": [
    "# This will convert 200 minutes to hours by dividing by 60\n",
    "200/60"
   ]
  },
  {
   "cell_type": "markdown",
   "id": "592ce2b0-5886-41f2-b85c-5d1418261155",
   "metadata": {},
   "source": [
    "## Objectives : \n",
    "   1. python\n",
    "   2. sql\n",
    "   3. r\n",
    "   4. pandas\n",
    "      "
   ]
  },
  {
   "cell_type": "markdown",
   "id": "2d1d5633-d25e-4fc8-95ea-3c2dc07bb9d0",
   "metadata": {},
   "source": [
    "## Author\n",
    "Teja Siva Kumar Paleti"
   ]
  },
  {
   "cell_type": "code",
   "execution_count": null,
   "id": "eff23ec0-52b9-497c-bbc5-43ba8f51b286",
   "metadata": {},
   "outputs": [],
   "source": []
  }
 ],
 "metadata": {
  "kernelspec": {
   "display_name": "Python 3 (ipykernel)",
   "language": "python",
   "name": "python3"
  },
  "language_info": {
   "codemirror_mode": {
    "name": "ipython",
    "version": 3
   },
   "file_extension": ".py",
   "mimetype": "text/x-python",
   "name": "python",
   "nbconvert_exporter": "python",
   "pygments_lexer": "ipython3",
   "version": "3.12.4"
  }
 },
 "nbformat": 4,
 "nbformat_minor": 5
}
